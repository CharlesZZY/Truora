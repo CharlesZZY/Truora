{
 "cells": [
  {
   "cell_type": "code",
   "execution_count": 12,
   "metadata": {},
   "outputs": [
    {
     "data": {
      "text/plain": [
       "array(['True Story', 'True Story', 'True Story', 'True Story',\n",
       "       'True Story', 'True Story', 'True Story', 'True Story',\n",
       "       'Deceptive Story', 'Deceptive Story', 'Deceptive Story',\n",
       "       'Deceptive Story', 'Deceptive Story', 'Deceptive Story',\n",
       "       'Deceptive Story', 'Deceptive Story', 'True Story', 'True Story',\n",
       "       'True Story', 'True Story', 'True Story', 'True Story',\n",
       "       'True Story', 'True Story', 'True Story', 'Deceptive Story',\n",
       "       'Deceptive Story', 'Deceptive Story', 'Deceptive Story',\n",
       "       'Deceptive Story', 'Deceptive Story', 'Deceptive Story',\n",
       "       'Deceptive Story', 'Deceptive Story', 'True Story',\n",
       "       'Deceptive Story', 'True Story', 'Deceptive Story', 'True Story',\n",
       "       'Deceptive Story', 'True Story', 'Deceptive Story', 'True Story',\n",
       "       'Deceptive Story', 'True Story', 'Deceptive Story', 'True Story',\n",
       "       'Deceptive Story', 'True Story', 'Deceptive Story', 'True Story',\n",
       "       'Deceptive Story', 'True Story', 'Deceptive Story', 'True Story',\n",
       "       'Deceptive Story', 'True Story', 'Deceptive Story', 'True Story',\n",
       "       'Deceptive Story', 'True Story', 'Deceptive Story', 'True Story',\n",
       "       'Deceptive Story', 'True Story', 'Deceptive Story', 'True Story',\n",
       "       'Deceptive Story', 'Deceptive Story', 'Deceptive Story'],\n",
       "      dtype='<U15')"
      ]
     },
     "execution_count": 12,
     "metadata": {},
     "output_type": "execute_result"
    }
   ],
   "source": [
    "import numpy as np\n",
    "\n",
    "original_data = np.load(\"../datasets/original_data.npz\")\n",
    "\n",
    "original_data[\"labels\"][:70]"
   ]
  },
  {
   "cell_type": "code",
   "execution_count": 20,
   "metadata": {},
   "outputs": [
    {
     "data": {
      "text/plain": [
       "array(['True Story', 'True Story', 'True Story', 'True Story',\n",
       "       'True Story', 'True Story', 'True Story', 'True Story',\n",
       "       'True Story', 'True Story', 'Deceptive Story', 'Deceptive Story',\n",
       "       'Deceptive Story', 'Deceptive Story', 'Deceptive Story',\n",
       "       'Deceptive Story', 'Deceptive Story', 'Deceptive Story',\n",
       "       'Deceptive Story', 'Deceptive Story'], dtype='<U15')"
      ]
     },
     "execution_count": 20,
     "metadata": {},
     "output_type": "execute_result"
    }
   ],
   "source": [
    "augmented_data = np.load(\"../datasets/augmented_data.npz\")\n",
    "\n",
    "augmented_data[\"labels\"][30:50]"
   ]
  },
  {
   "cell_type": "code",
   "execution_count": 9,
   "metadata": {},
   "outputs": [
    {
     "data": {
      "text/plain": [
       "'Data split and saved successfully.'"
      ]
     },
     "execution_count": 9,
     "metadata": {},
     "output_type": "execute_result"
    }
   ],
   "source": [
    "import numpy as np\n",
    "\n",
    "# Load the datasets\n",
    "original_data = np.load(\"../datasets/original_data.npz\")\n",
    "augmented_data = np.load(\"../datasets/augmented_data.npz\")\n",
    "\n",
    "# Extract features and labels\n",
    "original_features = original_data['features']\n",
    "original_labels = original_data['labels']\n",
    "augmented_features = augmented_data['features']\n",
    "augmented_labels = augmented_data['labels']\n",
    "\n",
    "# Calculate indices for splitting\n",
    "original_70 = int(len(original_features) * 0.7)\n",
    "augmented_70 = int(len(augmented_features) * 0.7)\n",
    "\n",
    "# Split datasets\n",
    "original_train_features = original_features[:original_70]\n",
    "original_train_labels = original_labels[:original_70]\n",
    "augmented_train_features = augmented_features[:augmented_70]\n",
    "augmented_train_labels = augmented_labels[:augmented_70]\n",
    "\n",
    "original_val_features = original_features[original_70:original_70 + (len(original_features) - original_70) // 2]\n",
    "original_val_labels = original_labels[original_70:original_70 + (len(original_labels) - original_70) // 2]\n",
    "augmented_val_features = augmented_features[augmented_70:augmented_70 + (len(augmented_features) - augmented_70) // 2]\n",
    "augmented_val_labels = augmented_labels[augmented_70:augmented_70 + (len(augmented_labels) - augmented_70) // 2]\n",
    "\n",
    "original_test_features = original_features[original_70 + (len(original_features) - original_70) // 2:]\n",
    "original_test_labels = original_labels[original_70 + (len(original_labels) - original_70) // 2:]\n",
    "augmented_test_features = augmented_features[augmented_70 + (len(augmented_features) - augmented_70) // 2:]\n",
    "augmented_test_labels = augmented_labels[augmented_70 + (len(augmented_labels) - augmented_70) // 2:]\n",
    "\n",
    "# Combine datasets\n",
    "train_features = np.concatenate((original_train_features, augmented_train_features), axis=0)\n",
    "train_labels = np.concatenate((original_train_labels, augmented_train_labels), axis=0)\n",
    "\n",
    "validation_features = np.concatenate((original_val_features, augmented_val_features), axis=0)\n",
    "validation_labels = np.concatenate((original_val_labels, augmented_val_labels), axis=0)\n",
    "\n",
    "test_features = np.concatenate((original_test_features, augmented_test_features), axis=0)\n",
    "test_labels = np.concatenate((original_test_labels, augmented_test_labels), axis=0)\n",
    "\n",
    "# Save to files\n",
    "np.savez(\"../datasets/train.npz\", features=train_features, labels=train_labels)\n",
    "np.savez(\"../datasets/validation.npz\", features=validation_features, labels=validation_labels)\n",
    "np.savez(\"../datasets/test.npz\", features=test_features, labels=test_labels)\n",
    "\n",
    "\"Data split and saved successfully.\""
   ]
  },
  {
   "cell_type": "code",
   "execution_count": 19,
   "metadata": {},
   "outputs": [
    {
     "data": {
      "text/plain": [
       "array(['True Story', 'True Story', 'True Story', 'True Story',\n",
       "       'True Story', 'True Story', 'True Story', 'True Story',\n",
       "       'True Story', 'True Story', 'Deceptive Story', 'Deceptive Story',\n",
       "       'Deceptive Story', 'Deceptive Story', 'Deceptive Story',\n",
       "       'Deceptive Story', 'Deceptive Story', 'Deceptive Story',\n",
       "       'Deceptive Story', 'Deceptive Story'], dtype='<U15')"
      ]
     },
     "execution_count": 19,
     "metadata": {},
     "output_type": "execute_result"
    }
   ],
   "source": [
    "train_data = np.load(\"../datasets/train.npz\")\n",
    "validation_data = np.load(\"../datasets/validation.npz\")\n",
    "test_data = np.load(\"../datasets/test.npz\")\n",
    "\n",
    "train_data[\"labels\"][100:120]"
   ]
  },
  {
   "cell_type": "code",
   "execution_count": null,
   "metadata": {},
   "outputs": [],
   "source": []
  }
 ],
 "metadata": {
  "kernelspec": {
   "display_name": "Truora",
   "language": "python",
   "name": "python3"
  },
  "language_info": {
   "codemirror_mode": {
    "name": "ipython",
    "version": 3
   },
   "file_extension": ".py",
   "mimetype": "text/x-python",
   "name": "python",
   "nbconvert_exporter": "python",
   "pygments_lexer": "ipython3",
   "version": "3.10.16"
  }
 },
 "nbformat": 4,
 "nbformat_minor": 2
}
