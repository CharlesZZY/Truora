{
 "cells": [
  {
   "cell_type": "code",
   "execution_count": 5,
   "metadata": {},
   "outputs": [],
   "source": [
    "import os\n",
    "import pandas as pd\n",
    "import librosa\n",
    "import numpy as np\n",
    "import soundfile as sf\n",
    "import random\n",
    "\n",
    "# 配置文件路径\n",
    "CONFIG = {\n",
    "    \"dataset_path\": \"../datasets/\",\n",
    "    \"story_path\": \"../datasets/CBU0521DD_stories/\",\n",
    "    \"label_path\": \"../datasets/CBU0521DD_stories_attributes.csv\",\n",
    "}"
   ]
  },
  {
   "cell_type": "code",
   "execution_count": 16,
   "metadata": {},
   "outputs": [],
   "source": [
    "# 数据增强方法：时间拉伸、音高变换、添加噪音、改变音量\n",
    "def time_stretch(y, rate=1.2):\n",
    "    return librosa.effects.time_stretch(y, rate=rate)\n",
    "\n",
    "def pitch_shift(y, sr, n_steps=4):\n",
    "    return librosa.effects.pitch_shift(y, sr=sr, n_steps=n_steps)\n",
    "\n",
    "def add_noise(y, noise_level=0.005):\n",
    "    noise = np.random.randn(len(y))\n",
    "    return y + noise_level * noise\n",
    "\n",
    "def change_volume(y, factor=1.2):\n",
    "    return y * factor\n",
    "\n",
    "def process_audio(filename, story_path, sr=16000):\n",
    "    y, _ = librosa.load(os.path.join(story_path, filename), sr=sr)\n",
    "    \n",
    "    augmented_audios = []\n",
    "    augmented_audios.append(time_stretch(y))  # 时间拉伸\n",
    "    augmented_audios.append(pitch_shift(y, sr))  # 音高变换\n",
    "    augmented_audios.append(add_noise(y))  # 加入噪音\n",
    "    augmented_audios.append(change_volume(y))  # 改变音量\n",
    "\n",
    "    return [y] + augmented_audios"
   ]
  },
  {
   "cell_type": "code",
   "execution_count": 9,
   "metadata": {},
   "outputs": [
    {
     "data": {
      "text/plain": [
       "['00001.wav', '00002.wav', '00003.wav', '00004.wav', '00005.wav']"
      ]
     },
     "execution_count": 9,
     "metadata": {},
     "output_type": "execute_result"
    }
   ],
   "source": [
    "# 读取标签文件\n",
    "label_df = pd.read_csv(CONFIG['label_path'])\n",
    "filenames = label_df['filename'].tolist()\n",
    "\n",
    "filenames[:5]"
   ]
  },
  {
   "cell_type": "code",
   "execution_count": 10,
   "metadata": {},
   "outputs": [],
   "source": [
    "augmented_filenames = []\n",
    "augmented_labels = []\n",
    "\n",
    "# 增强后的音频存储路径\n",
    "augmented_story_path = CONFIG['story_path'] + \"_augmented/\"\n",
    "if not os.path.exists(augmented_story_path):\n",
    "    os.makedirs(augmented_story_path)"
   ]
  },
  {
   "cell_type": "code",
   "execution_count": 17,
   "metadata": {},
   "outputs": [],
   "source": [
    "# 遍历每个音频文件，进行数据增强\n",
    "for filename in filenames:\n",
    "    # 处理原始音频及其增强版本\n",
    "    augmented_audios = process_audio(filename, CONFIG['story_path'])\n",
    "\n",
    "    for i, y in enumerate(augmented_audios):\n",
    "        augmented_filename = filename.split('.')[0] + f\"_augmented_{i}.wav\"\n",
    "        augmented_filenames.append(augmented_filename)\n",
    "        augmented_labels.append(label_df[label_df['filename'] == filename]['Story_type'].values[0])  # 保持标签不变\n",
    "\n",
    "        # 保存增强后的音频\n",
    "        sf.write(os.path.join(augmented_story_path, augmented_filename), y, 16000)"
   ]
  },
  {
   "cell_type": "code",
   "execution_count": 18,
   "metadata": {},
   "outputs": [
    {
     "name": "stdout",
     "output_type": "stream",
     "text": [
      "数据增强完成，新的标签文件保存在：../datasets/CBU0521DD_stories_attributes_augmented.csv\n"
     ]
    }
   ],
   "source": [
    "# 更新标签文件\n",
    "augmented_labels_df = pd.DataFrame({\n",
    "    \"filename\": augmented_filenames,\n",
    "    \"Language\": ['Chinese'] * len(augmented_filenames),\n",
    "    \"Story_type\": augmented_labels\n",
    "})\n",
    "\n",
    "# 保存新的标签文件\n",
    "augmented_labels_df.to_csv(CONFIG['label_path'].replace('.csv', '_augmented.csv'), index=False)\n",
    "\n",
    "print(f\"数据增强完成，新的标签文件保存在：{CONFIG['label_path'].replace('.csv', '_augmented.csv')}\")"
   ]
  },
  {
   "cell_type": "code",
   "execution_count": null,
   "metadata": {},
   "outputs": [],
   "source": []
  }
 ],
 "metadata": {
  "kernelspec": {
   "display_name": "Truora",
   "language": "python",
   "name": "python3"
  },
  "language_info": {
   "codemirror_mode": {
    "name": "ipython",
    "version": 3
   },
   "file_extension": ".py",
   "mimetype": "text/x-python",
   "name": "python",
   "nbconvert_exporter": "python",
   "pygments_lexer": "ipython3",
   "version": "3.10.16"
  }
 },
 "nbformat": 4,
 "nbformat_minor": 2
}
