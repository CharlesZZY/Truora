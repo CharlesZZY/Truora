{
  "cells": [
    {
      "cell_type": "markdown",
      "metadata": {},
      "source": [
        "# Truora"
      ]
    },
    {
      "cell_type": "markdown",
      "metadata": {
        "id": "ZaGn4ICrfqXZ"
      },
      "source": [
        "# 1 Author\n",
        "\n",
        "**Student Name**:  Zheyun Zhao\n",
        "\n",
        "**Student ID**:  221170559\n",
        "\n"
      ]
    },
    {
      "cell_type": "markdown",
      "metadata": {
        "id": "o38VQkcdKd6k"
      },
      "source": [
        "# 2 Problem formulation\n",
        "\n",
        "Describe the machine learning problem that you want to solve and explain what's interesting about it."
      ]
    },
    {
      "cell_type": "markdown",
      "metadata": {
        "id": "bPTSuaB9L2jU"
      },
      "source": [
        "# 3 Methodology\n",
        "\n",
        "Describe your methodology. Specifically, describe your training task and validation task, and how model performance is defined (i.e. accuracy, confusion matrix, etc). Any other tasks that might help you build your model should also be described here."
      ]
    },
    {
      "cell_type": "code",
      "execution_count": 1,
      "metadata": {},
      "outputs": [],
      "source": [
        "import os\n",
        "os.environ[\"KERAS_BACKEND\"] = \"torch\"\n",
        "\n",
        "import numpy as np\n",
        "import pandas as pd\n",
        "import librosa\n",
        "import seaborn as sns\n",
        "import matplotlib.pyplot as plt\n",
        "from tqdm import tqdm\n",
        "from typing import *\n",
        "from keras import models, layers, callbacks\n",
        "from keras.utils import plot_model\n",
        "from sklearn.model_selection import train_test_split\n",
        "from sklearn.preprocessing import LabelEncoder\n",
        "from sklearn.ensemble import RandomForestClassifier\n",
        "from sklearn.metrics import (\n",
        "    accuracy_score,\n",
        "    confusion_matrix,\n",
        "    classification_report,\n",
        "    roc_curve,\n",
        "    auc,\n",
        ")"
      ]
    },
    {
      "cell_type": "code",
      "execution_count": 2,
      "metadata": {},
      "outputs": [],
      "source": [
        "class Config:\n",
        "  def __init__(\n",
        "      self,\n",
        "      dataset_path: str = \"../datasets/\",\n",
        "      story_path: str = \"../datasets/CBU0521DD_stories/\",\n",
        "      augmented_story_path: str = \"../datasets/CBU0521DD_stories/_augmented/\",\n",
        "      label_path: str = \"../datasets/CBU0521DD_stories_attributes.csv\",\n",
        "      augmented_label_path: str = \"../datasets/CBU0521DD_stories_attributes_augmented.csv\",\n",
        "      model_path: str = \"../models/\",\n",
        "      epoch: int = 100,\n",
        "      batch_size: int = 10,\n",
        "  ):\n",
        "    self.dataset_path = dataset_path\n",
        "    self.story_path = story_path\n",
        "    self.augmented_story_path = augmented_story_path\n",
        "    self.label_path = label_path\n",
        "    self.augmented_label_path = augmented_label_path\n",
        "    self.model_path = model_path\n",
        "    self.epoch = epoch\n",
        "    self.batch_size = batch_size"
      ]
    },
    {
      "cell_type": "markdown",
      "metadata": {
        "id": "N3BwrtEdLDit"
      },
      "source": [
        "# 4 Implemented ML prediction pipelines\n",
        "\n",
        "Describe the ML prediction pipelines that you will explore. Clearly identify their input and output, stages and format of the intermediate data structures moving from one stage to the next. It's up to you to decide which stages to include in your pipeline. After providing an overview, describe in more detail each one of the stages that you have included in their corresponding subsections (i.e. 4.1 Transformation stage, 4.2 Model stage, 4.3 Ensemble stage)."
      ]
    },
    {
      "cell_type": "markdown",
      "metadata": {
        "id": "j1nDXnzYLLH6"
      },
      "source": [
        "## 4.1 Transformation stage\n",
        "\n",
        "Describe any transformations, such as feature extraction. Identify input and output. Explain why you have chosen this transformation stage."
      ]
    },
    {
      "cell_type": "code",
      "execution_count": 3,
      "metadata": {},
      "outputs": [],
      "source": [
        "class DataTransformer:\n",
        "  \"\"\"\n",
        "  用于完成以下功能：\n",
        "  1. 读取并加载数据（包括原始数据与增强数据）\n",
        "  2. 对音频数据进行特征提取（Mel-Spectrogram, MFCC, Chroma等）\n",
        "  3. 保存与加载NPZ格式的数据\n",
        "  \"\"\"\n",
        "\n",
        "  def __init__(self, config: Config):\n",
        "    self.config = config\n",
        "\n",
        "  # Save features and labels to a .npz file\n",
        "  def save_data(features, labels, file_path):\n",
        "      np.savez(file_path, features=features, labels=labels)\n",
        "      print(f\"Dataset saved to: {file_path}\")\n",
        "\n",
        "  # 加载数据\n",
        "  def load_data_from_npz(self, file_path):\n",
        "      data = np.load(file_path)\n",
        "      return data['features'], data['labels']\n",
        "\n",
        "  def load_data(\n",
        "      self,\n",
        "      dataset_path: str,\n",
        "      labels_df: pd.DataFrame,\n",
        "      augmented: bool = False\n",
        "  ) -> Tuple[np.ndarray, np.ndarray]:\n",
        "    \"\"\"\n",
        "    augmented=True时，读取增强后的数据及标签，否则读取原始数据。\n",
        "    返回 features, labels\n",
        "    \"\"\"\n",
        "    features = []\n",
        "    labels = []\n",
        "\n",
        "    if augmented:\n",
        "      augmented_labels_df = pd.read_csv(self.config.augmented_label_path)\n",
        "      filenames = augmented_labels_df[\"filename\"].tolist()\n",
        "    else:\n",
        "      filenames = labels_df[\"filename\"].tolist()\n",
        "\n",
        "    for filename in tqdm(filenames, desc=\"Loading data\", ncols=100, unit=\"file\"):\n",
        "      file_path = os.path.join(dataset_path, filename)\n",
        "      audio_features = self.extract_features(file_path)\n",
        "\n",
        "      if augmented:\n",
        "        story_type = augmented_labels_df[\n",
        "            augmented_labels_df[\"filename\"] == filename\n",
        "        ][\"Story_type\"].values[0]\n",
        "      else:\n",
        "        story_type = labels_df[\n",
        "            labels_df[\"filename\"] == filename\n",
        "        ][\"Story_type\"].values[0]\n",
        "\n",
        "      features.append(audio_features)\n",
        "      labels.append(story_type)\n",
        "\n",
        "    return np.array(features), np.array(labels)\n",
        "\n",
        "  @staticmethod\n",
        "  def extract_features(\n",
        "      file_path: str,\n",
        "      sr: int = 16000,\n",
        "      n_mels: int = 128,\n",
        "      duration: int = 240,\n",
        "  ) -> np.ndarray:\n",
        "    \"\"\"\n",
        "    提取音频特征，包括Mel-Spectrogram、MFCC、Chroma、ZCR、能量、持续时间、谱质心、滚降点等。\n",
        "    最终将所有特征拼接到同一矩阵中，并做定长处理。\n",
        "    \"\"\"\n",
        "    audio, sr = librosa.load(file_path, sr=sr)\n",
        "\n",
        "    mel_spectrogram = librosa.feature.melspectrogram(\n",
        "        y=audio, sr=sr, n_mels=n_mels\n",
        "    )\n",
        "    log_mel_spectrogram = librosa.power_to_db(mel_spectrogram)\n",
        "\n",
        "    mfcc = librosa.feature.mfcc(y=audio, sr=sr, n_mfcc=20)\n",
        "\n",
        "    chroma = librosa.feature.chroma_stft(y=audio, sr=sr)\n",
        "\n",
        "    zero_crossing_rate = librosa.feature.zero_crossing_rate(y=audio)\n",
        "    short_term_energy = np.sum(audio ** 2) / len(audio)\n",
        "    duration_feature = len(audio) / sr\n",
        "\n",
        "    spectral_centroid = librosa.feature.spectral_centroid(y=audio, sr=sr)\n",
        "    spectral_rolloff = librosa.feature.spectral_rolloff(y=audio, sr=sr, roll_percent=0.85)\n",
        "    spectral_flux = librosa.onset.onset_strength(y=audio, sr=sr)\n",
        "\n",
        "    features = np.vstack([\n",
        "        log_mel_spectrogram,\n",
        "        mfcc,\n",
        "        chroma,\n",
        "        zero_crossing_rate,\n",
        "        spectral_centroid,\n",
        "        spectral_rolloff,\n",
        "        spectral_flux,\n",
        "    ])\n",
        "\n",
        "    target_length = int(sr * duration / 512)\n",
        "    if features.shape[1] < target_length:\n",
        "      padding = np.zeros((features.shape[0], target_length - features.shape[1]))\n",
        "      features = np.concatenate([features, padding], axis=1)\n",
        "    else:\n",
        "      features = features[:, :target_length]\n",
        "\n",
        "    additional_features = np.array([short_term_energy, duration_feature])\n",
        "    additional_features = np.repeat(additional_features[:, np.newaxis], features.shape[1], axis=1)\n",
        "    \n",
        "    features = np.concatenate([features, additional_features], axis=0)\n",
        "\n",
        "    return features"
      ]
    },
    {
      "cell_type": "markdown",
      "metadata": {
        "id": "0F5_kI95LuZ2"
      },
      "source": [
        "## 4.2 Model stage\n",
        "\n",
        "Describe the ML model(s) that you will build. Explain why you have chosen them."
      ]
    },
    {
      "cell_type": "code",
      "execution_count": 4,
      "metadata": {},
      "outputs": [],
      "source": [
        "class ModelBuilder:\n",
        "  \"\"\"\n",
        "  负责构建与返回所需模型。\n",
        "  目前包含：CNN-LSTM模型（带Attention）以及随机森林模型。\n",
        "  \"\"\"\n",
        "  def build_cnn_lstm_model(self, input_shape: Tuple[int, int, int]) -> models.Model:\n",
        "    model_input = layers.Input(shape=input_shape)\n",
        "\n",
        "    x = layers.Conv2D(32, (3, 3), activation=\"relu\", padding=\"same\")(model_input)\n",
        "    x = layers.BatchNormalization()(x)\n",
        "    x = layers.MaxPooling2D((2, 2))(x)\n",
        "    x = layers.Dropout(0.2)(x)\n",
        "\n",
        "    x = layers.Conv2D(64, (3, 3), activation=\"relu\", padding=\"same\")(x)\n",
        "    x = layers.BatchNormalization()(x)\n",
        "    x = layers.MaxPooling2D((2, 2))(x)\n",
        "    x = layers.Dropout(0.3)(x)\n",
        "\n",
        "    x = layers.Conv2D(128, (3, 3), activation=\"relu\", padding=\"same\")(x)\n",
        "    x = layers.BatchNormalization()(x)\n",
        "    x = layers.GlobalAveragePooling2D()(x)\n",
        "    x = layers.Dropout(0.4)(x)\n",
        "\n",
        "    x = layers.Reshape((1, 128))(x)  # (batch_size, sequence_length=1, feature_dim=128)\n",
        "    attention_output = layers.Attention()([x, x])  # Self-Attention\n",
        "\n",
        "    x = layers.Bidirectional(layers.LSTM(128, return_sequences=True))(attention_output)\n",
        "    x = layers.Bidirectional(layers.LSTM(64))(x)\n",
        "\n",
        "    x = layers.Dense(64, activation=\"relu\", kernel_regularizer=\"l2\")(x)\n",
        "    x = layers.BatchNormalization()(x)\n",
        "    x = layers.Dropout(0.5)(x)\n",
        "    output = layers.Dense(1, activation=\"sigmoid\")(x)\n",
        "\n",
        "    model = models.Model(inputs=model_input, outputs=output)\n",
        "    model.compile(optimizer=\"adam\", loss=\"binary_crossentropy\", metrics=[\"accuracy\"])\n",
        "    return model\n",
        "\n",
        "  @staticmethod\n",
        "  def build_rf_model(random_state: int = 42, n_estimators: int = 100) -> RandomForestClassifier:\n",
        "    return RandomForestClassifier(n_estimators=n_estimators, random_state=random_state)"
      ]
    },
    {
      "cell_type": "code",
      "execution_count": 5,
      "metadata": {},
      "outputs": [],
      "source": [
        "class Trainer:\n",
        "  \"\"\"\n",
        "  负责模型的训练与可视化（如Loss、Accuracy曲线）。\n",
        "  \"\"\"\n",
        "\n",
        "  def __init__(self, config: Config, model_builder: ModelBuilder):\n",
        "    self.config = config\n",
        "    self.model_builder = model_builder\n",
        "\n",
        "  @staticmethod\n",
        "  def show_history(history):\n",
        "    plt.figure(figsize=(12, 4))\n",
        "\n",
        "    plt.subplot(1, 2, 1)\n",
        "    plt.plot(history.history[\"accuracy\"], label=\"Training Accuracy\")\n",
        "    plt.plot(history.history[\"val_accuracy\"], label=\"Validation Accuracy\")\n",
        "    plt.xlabel(\"Epoch\")\n",
        "    plt.ylabel(\"Accuracy\")\n",
        "    plt.legend()\n",
        "\n",
        "    plt.subplot(1, 2, 2)\n",
        "    plt.plot(history.history[\"loss\"], label=\"Training Loss\")\n",
        "    plt.plot(history.history[\"val_loss\"], label=\"Validation Loss\")\n",
        "    plt.xlabel(\"Epoch\")\n",
        "    plt.ylabel(\"Loss\")\n",
        "    plt.legend()\n",
        "\n",
        "    plt.tight_layout()\n",
        "    plt.show()\n",
        "\n",
        "  def train(\n",
        "      self,\n",
        "      X_train: np.ndarray,\n",
        "      y_train: np.ndarray,\n",
        "      X_val: np.ndarray,\n",
        "      y_val: np.ndarray,\n",
        "      n_models: int = 3,\n",
        "      continue_training: bool = False\n",
        "  ) -> List[models.Model]:\n",
        "    \"\"\"\n",
        "    训练多个CNN-LSTM模型（集成），或加载已有模型继续训练。\n",
        "    \"\"\"\n",
        "    model_list = []\n",
        "    if continue_training:\n",
        "      for i in range(n_models):\n",
        "        model_path = os.path.join(self.config.model_path, f\"best_model_{i + 1}.keras\")\n",
        "        loaded_model = models.load_model(model_path)\n",
        "        model_list.append(loaded_model)\n",
        "    else:\n",
        "      model_list = []\n",
        "\n",
        "    for i in range(n_models):\n",
        "      if continue_training:\n",
        "        model = self.model_list[i]\n",
        "        print(f\"Continue Train Model {i+1}\")\n",
        "      else:\n",
        "        print(f\"Train Model {i+1}\")\n",
        "        model = self.model_builder.build_cnn_lstm_model(\n",
        "            (X_train.shape[1], X_train.shape[2], X_train.shape[3])\n",
        "        )\n",
        "\n",
        "      early_stopping = callbacks.EarlyStopping(monitor=\"loss\", patience=100)\n",
        "      model_checkpoint = callbacks.ModelCheckpoint(\n",
        "          filepath=os.path.join(self.config.model_path, f\"best_model_{i + 1}.keras\"),\n",
        "          monitor=\"val_accuracy\",\n",
        "          save_best_only=True\n",
        "      )\n",
        "      callbacks_list = [early_stopping, model_checkpoint]\n",
        "\n",
        "      history = model.fit(\n",
        "          X_train,\n",
        "          y_train,\n",
        "          epochs=self.config.epoch,\n",
        "          batch_size=self.config.batch_size,\n",
        "          validation_data=(X_val, y_val),\n",
        "          callbacks=callbacks_list\n",
        "      )\n",
        "      self.show_history(history)\n",
        "      model_list.append(model)\n",
        "\n",
        "    return model_list\n",
        "\n",
        "  def train_random_forest(self, X_train: np.ndarray, y_train: np.ndarray) -> RandomForestClassifier:\n",
        "    \"\"\"\n",
        "    训练随机森林模型。\n",
        "    \"\"\"\n",
        "    rf_model = self.model_builder.build_rf_model()\n",
        "    # 对高维特征进行降维处理，展开为2D\n",
        "    X_train_2d = X_train.reshape(X_train.shape[0], -1)\n",
        "    rf_model.fit(X_train_2d, y_train)\n",
        "    return rf_model"
      ]
    },
    {
      "cell_type": "code",
      "execution_count": 6,
      "metadata": {},
      "outputs": [],
      "source": [
        "def plot_confusion_matrix(y_true: np.ndarray, y_pred: np.ndarray, labels: List[str]):\n",
        "  cm = confusion_matrix(y_true, y_pred)\n",
        "  plt.figure(figsize=(6, 6))\n",
        "  sns.heatmap(cm, annot=True, fmt=\"d\", cmap=\"Blues\", xticklabels=labels, yticklabels=labels)\n",
        "  plt.ylabel(\"Actual\")\n",
        "  plt.xlabel(\"Predicted\")\n",
        "  plt.title(\"Confusion Matrix\")\n",
        "  plt.show()\n",
        "\n",
        "def plot_roc_curve(y_true: np.ndarray, y_pred_prob: np.ndarray):\n",
        "  fpr, tpr, _ = roc_curve(y_true, y_pred_prob)\n",
        "  roc_auc = auc(fpr, tpr)\n",
        "\n",
        "  plt.figure(figsize=(8, 6))\n",
        "  plt.plot(fpr, tpr, label=f\"ROC curve (AUC = {roc_auc:.2f})\", color=\"blue\")\n",
        "  plt.plot([0, 1], [0, 1], linestyle=\"--\", color=\"gray\", label=\"Random Guess\")\n",
        "  plt.xlabel(\"1 - Specificity (FPR)\")\n",
        "  plt.ylabel(\"Sensitivity (TPR)\")\n",
        "  plt.title(\"Receiver Operating Characteristic (ROC) Curve\")\n",
        "  plt.legend(loc=\"lower right\")\n",
        "  plt.show()"
      ]
    },
    {
      "cell_type": "markdown",
      "metadata": {},
      "source": [
        "## 4.3 Ensemble stage\n",
        "\n",
        "Describe any ensemble approach you might have included. Explain why you have chosen them."
      ]
    },
    {
      "cell_type": "code",
      "execution_count": 7,
      "metadata": {},
      "outputs": [],
      "source": [
        "class Predictor:\n",
        "  \"\"\"\n",
        "  用于模型预测及输出结果。包含集成预测的方法。\n",
        "  \"\"\"\n",
        "  @staticmethod\n",
        "  def ensemble_predict(\n",
        "      model_list: List[models.Model],\n",
        "      rf_model: RandomForestClassifier,\n",
        "      X_test: np.ndarray,\n",
        "      weights: Optional[List[float]] = None\n",
        "  ) -> np.ndarray:\n",
        "    nn_preds = np.zeros((len(model_list), X_test.shape[0]))\n",
        "    for i, model in enumerate(model_list):\n",
        "      nn_preds[i] = model.predict(X_test).flatten()\n",
        "\n",
        "    print(f\"NN Predictions: {nn_preds}\")\n",
        "\n",
        "    X_test_2d = X_test.reshape(X_test.shape[0], -1)\n",
        "    rf_preds = rf_model.predict_proba(X_test_2d)[:, 1]\n",
        "\n",
        "    print(f\"RF Predictions: {rf_preds}\")\n",
        "\n",
        "    if weights is None:\n",
        "      weights = [1.0 / len(model_list)] * len(model_list)\n",
        "\n",
        "    nn_pred_avg = np.average(nn_preds, axis=0, weights=weights)\n",
        "\n",
        "    # final_pred_prob = (nn_pred_avg + rf_preds) / 2.0\n",
        "    final_pred_prob = nn_pred_avg\n",
        "    final_pred = (final_pred_prob > 0.5).astype(int)\n",
        "    return final_pred, final_pred_prob"
      ]
    },
    {
      "cell_type": "code",
      "execution_count": 8,
      "metadata": {},
      "outputs": [],
      "source": [
        "class Evaluator:\n",
        "  \"\"\"\n",
        "  对模型进行评估，包括指标计算、混淆矩阵与ROC曲线绘制等。\n",
        "  \"\"\"\n",
        "  @staticmethod\n",
        "  def evaluate_model(y_true: np.ndarray, y_pred: np.ndarray) -> None:\n",
        "    report = classification_report(y_true, y_pred)\n",
        "    print(\"Classification Report:\\n\", report)\n",
        "\n",
        "    cm = confusion_matrix(y_true, y_pred)\n",
        "    print(\"Confusion Matrix:\\n\", cm)\n",
        "\n",
        "    TP = cm[1, 1]\n",
        "    TN = cm[0, 0]\n",
        "    FP = cm[0, 1]\n",
        "    FN = cm[1, 0]\n",
        "\n",
        "    sensitivity = TP / (TP + FN)  # TPR\n",
        "    specificity = TN / (TN + FP)\n",
        "    precision = TP / (TP + FP)\n",
        "    f1 = 2 * (precision * sensitivity) / (precision + sensitivity)\n",
        "\n",
        "    print(f\"Sensitivity: {sensitivity:.2f}\")\n",
        "    print(f\"Specificity: {specificity:.2f}\")\n",
        "    print(f\"Precision: {precision:.2f}\")\n",
        "    print(f\"F1 Score: {f1:.2f}\")\n",
        "\n",
        "  def evaluate_ensemble_model(\n",
        "      self,\n",
        "      model_list: List[models.Model],\n",
        "      rf_model: RandomForestClassifier,\n",
        "      X_test: np.ndarray,\n",
        "      y_true: np.ndarray,\n",
        "      labels: List[str]\n",
        "  ) -> Tuple[np.ndarray, np.ndarray]:\n",
        "    final_pred, final_pred_prob = Predictor.ensemble_predict(model_list, rf_model, X_test)\n",
        "    print(\"\\nEnsemble Model Evaluation:\")\n",
        "    self.evaluate_model(y_true, final_pred)\n",
        "    plot_confusion_matrix(y_true, final_pred, labels=labels)\n",
        "    plot_roc_curve(y_true, final_pred_prob)\n",
        "    return final_pred, final_pred_prob"
      ]
    },
    {
      "cell_type": "markdown",
      "metadata": {
        "id": "HZQPxztuL9AW"
      },
      "source": [
        "# 5 Dataset\n",
        "\n",
        "Describe the datasets that you will create to build and evaluate your models. Your datasets need to be based on our MLEnd Deception Dataset. After describing the datasets, build them here. You can explore and visualise the datasets here as well. \n",
        "\n",
        "If you are building separate training and validatio datasets, do it here. Explain clearly how you are building such datasets, how you are ensuring that they serve their purpose (i.e. they are independent and consist of IID samples) and any limitations you might think of. It is always important to identify any limitations as early as possible. The scope and validity of your conclusions will depend on your ability to understand the limitations of your approach.\n",
        "\n",
        "If you are exploring different datasets, create different subsections for each dataset and give them a name (e.g. 5.1 Dataset A, 5.2 Dataset B, 5.3 Dataset 5.3) .\n",
        "\n"
      ]
    },
    {
      "cell_type": "markdown",
      "metadata": {
        "id": "2qf7GN1aeXJI"
      },
      "source": [
        "# 6 Experiments and results\n",
        "\n",
        "Carry out your experiments here. Analyse and explain your results. Unexplained results are worthless."
      ]
    },
    {
      "cell_type": "code",
      "execution_count": 9,
      "metadata": {},
      "outputs": [],
      "source": [
        "class Pipeline:\n",
        "  def __init__(self, config: Config, data_transformer: DataTransformer = None, model_builder: ModelBuilder = None, trainer: Trainer = None, evaluator: Evaluator = None, predictor: Predictor = None):\n",
        "    self.config = config\n",
        "    self.model_list = []\n",
        "    self.rf_model: RandomForestClassifier = None\n",
        "    self.use_nn: bool = True\n",
        "    self.use_rf: bool = True\n",
        "    self.data_transformer = data_transformer\n",
        "    self.model_builder = model_builder\n",
        "    self.trainer = trainer\n",
        "    self.evaluator = evaluator\n",
        "    self.predictor = predictor\n",
        "\n",
        "  def enable_nn(self):\n",
        "    self.use_nn = True\n",
        "\n",
        "  def disable_nn(self):\n",
        "    self.use_nn = False\n",
        "\n",
        "  def enable_rf(self):\n",
        "    self.use_rf = True\n",
        "\n",
        "  def disable_rf(self):\n",
        "    self.use_rf = False\n",
        "\n",
        "  def load_nn_models(self, model_path: List[str]):\n",
        "    self.model_list = [models.load_model(path) for path in model_path]\n",
        "\n",
        "  def pre_process(self, load_from_npz: bool = False):\n",
        "    if load_from_npz:\n",
        "      original_features, original_labels = self.data_transformer.load_data_from_npz(os.path.join(self.config.dataset_path, \"original_data.npz\"))\n",
        "      augmented_features, augmented_labels = self.data_transformer.load_data_from_npz(os.path.join(self.config.dataset_path, \"augmented_data.npz\"))\n",
        "    else:\n",
        "      labels_df = pd.read_csv(self.config.label_path)\n",
        "      original_features, original_labels = self.data_transformer.load_data(self.config.story_path, labels_df, augmented=False)\n",
        "      augmented_features, augmented_labels = self.data_transformer.load_data(self.config.augmented_story_path, labels_df, augmented=True)\n",
        "    \n",
        "    # 合并原始数据和增强数据\n",
        "    features = np.concatenate((original_features, augmented_features), axis=0)\n",
        "    labels = np.concatenate((original_labels, augmented_labels), axis=0)\n",
        "\n",
        "    print(f\"Original dataset size: {original_features.shape[0]}, Augmented dataset size: {augmented_features.shape[0]}\")\n",
        "    print(f\"Combined dataset size: {features.shape[0]}\")\n",
        "\n",
        "    label_encoder = LabelEncoder()\n",
        "    labels_encoded = label_encoder.fit_transform(labels)\n",
        "\n",
        "    # First split: 70% training, 30% temporary (to be split further)\n",
        "    X_train, X_temp, y_train, y_temp = train_test_split(features, labels_encoded, test_size=0.3, random_state=42)\n",
        "\n",
        "    # Second split: 50% of the 30% temporary set to validation and test (15% each)\n",
        "    X_val, X_test, y_val, y_test = train_test_split(X_temp, y_temp, test_size=0.5, random_state=42)\n",
        "\n",
        "    X_train = X_train[..., np.newaxis]\n",
        "    X_val = X_val[..., np.newaxis]\n",
        "    X_test = X_test[..., np.newaxis]\n",
        "\n",
        "    return X_train, y_train, X_val, y_val, X_test, y_test, label_encoder\n",
        "\n",
        "  def nn_train(self, X_train, y_train, X_val, y_val, n_models: int = 1, continue_training: bool = False):\n",
        "    self.model_list = self.trainer.train(X_train, y_train, X_val, y_val,  n_models=n_models, continue_training=continue_training)\n",
        "\n",
        "  def rf_train(self, X_train, y_train):\n",
        "    self.rf_model = self.trainer.train_random_forest(X_train, y_train)\n",
        "\n",
        "  def evaluate(self, model_list, rf_model, label_encoder, X_test, y_test):\n",
        "    labels=['Deceptive Story', 'True Story']\n",
        "    # 评估集成模型\n",
        "    final_pred, final_pred_prob = self.evaluator.evaluate_ensemble_model(model_list=model_list, rf_model=rf_model, X_test=X_test, y_true=y_test, labels=labels)\n",
        "\n",
        "    # 输出预测结果与真实标签\n",
        "    predicted_labels = label_encoder.inverse_transform(final_pred)\n",
        "    true_labels = label_encoder.inverse_transform(y_test)\n",
        "    for true, pred in zip(true_labels, predicted_labels):\n",
        "        print(f\"Actual: {true}, Predicted: {pred}\")\n",
        "\n",
        "  def process_audio(self, audio_path: str) -> bool:\n",
        "    features = self.data_transformer.extract_features(audio_path)\n",
        "    return self.predictor.ensemble_predict(self.trainer.model_list, self.trainer.rf_model, features)"
      ]
    },
    {
      "cell_type": "code",
      "execution_count": 10,
      "metadata": {},
      "outputs": [],
      "source": [
        "config = Config(\n",
        "    dataset_path=\"../datasets/\",\n",
        "    story_path=\"../datasets/CBU0521DD_stories/\",\n",
        "    augmented_story_path=\"../datasets/CBU0521DD_stories/_augmented/\",\n",
        "    label_path=\"../datasets/CBU0521DD_stories_attributes.csv\",\n",
        "    augmented_label_path=\"../datasets/CBU0521DD_stories_attributes_augmented.csv\",\n",
        "    model_path=\"../models/\",\n",
        "    epoch=2,\n",
        "    batch_size=10,\n",
        ")\n",
        "\n",
        "data_transformer = DataTransformer(config)\n",
        "model_builder = ModelBuilder()\n",
        "trainer = Trainer(config, model_builder)\n",
        "evaluator = Evaluator()\n",
        "predictor = Predictor()"
      ]
    },
    {
      "cell_type": "code",
      "execution_count": 11,
      "metadata": {},
      "outputs": [],
      "source": [
        "pipeline = Pipeline(config, data_transformer, model_builder, trainer, evaluator, predictor)"
      ]
    },
    {
      "cell_type": "code",
      "execution_count": 12,
      "metadata": {},
      "outputs": [
        {
          "name": "stdout",
          "output_type": "stream",
          "text": [
            "Original dataset size: 100, Augmented dataset size: 500\n",
            "Combined dataset size: 600\n"
          ]
        }
      ],
      "source": [
        "X_train, y_train, X_val, y_val, X_test, y_test, label_encoder = pipeline.pre_process(load_from_npz=True)"
      ]
    },
    {
      "cell_type": "code",
      "execution_count": 13,
      "metadata": {},
      "outputs": [
        {
          "data": {
            "text/plain": [
              "((420, 166, 7500, 1),\n",
              " (420,),\n",
              " (90, 166, 7500, 1),\n",
              " (90,),\n",
              " (90, 166, 7500, 1),\n",
              " (90,))"
            ]
          },
          "execution_count": 13,
          "metadata": {},
          "output_type": "execute_result"
        }
      ],
      "source": [
        "X_train.shape, y_train.shape, X_val.shape, y_val.shape, X_test.shape, y_test.shape"
      ]
    },
    {
      "cell_type": "code",
      "execution_count": 20,
      "metadata": {},
      "outputs": [],
      "source": [
        "pipeline.load_nn_models([\"../models/backup/1/best_model_1.keras\"])"
      ]
    },
    {
      "cell_type": "code",
      "execution_count": null,
      "metadata": {},
      "outputs": [],
      "source": [
        "pipeline.rf_train(X_train, y_train)"
      ]
    },
    {
      "cell_type": "code",
      "execution_count": 18,
      "metadata": {},
      "outputs": [
        {
          "data": {
            "text/plain": [
              "([<Functional name=functional, built=True>],\n",
              " RandomForestClassifier(random_state=42))"
            ]
          },
          "execution_count": 18,
          "metadata": {},
          "output_type": "execute_result"
        }
      ],
      "source": [
        "pipeline.model_list, pipeline.rf_model"
      ]
    },
    {
      "cell_type": "code",
      "execution_count": null,
      "metadata": {},
      "outputs": [],
      "source": [
        "pipeline.nn_train(X_train, y_train, X_val, y_val, n_models=1, continue_training=False)"
      ]
    },
    {
      "cell_type": "code",
      "execution_count": 21,
      "metadata": {},
      "outputs": [
        {
          "name": "stdout",
          "output_type": "stream",
          "text": [
            "\u001b[1m1/3\u001b[0m \u001b[32m━━━━━━\u001b[0m\u001b[37m━━━━━━━━━━━━━━\u001b[0m \u001b[1m1s\u001b[0m 700ms/step"
          ]
        },
        {
          "name": "stderr",
          "output_type": "stream",
          "text": [
            "/root/miniconda3/envs/Truora/lib/python3.10/site-packages/keras/src/ops/nn.py:827: UserWarning: You are using a softmax over axis -1 of a tensor of shape torch.Size([32, 1, 1]). This axis has size 1. The softmax operation will always return the value 1, which is likely not what you intended. Did you mean to use a sigmoid instead?\n",
            "  warnings.warn(\n"
          ]
        },
        {
          "name": "stdout",
          "output_type": "stream",
          "text": [
            "\u001b[1m3/3\u001b[0m \u001b[32m━━━━━━━━━━━━━━━━━━━━\u001b[0m\u001b[37m\u001b[0m \u001b[1m0s\u001b[0m 239ms/step"
          ]
        },
        {
          "name": "stderr",
          "output_type": "stream",
          "text": [
            "/root/miniconda3/envs/Truora/lib/python3.10/site-packages/keras/src/ops/nn.py:827: UserWarning: You are using a softmax over axis -1 of a tensor of shape torch.Size([26, 1, 1]). This axis has size 1. The softmax operation will always return the value 1, which is likely not what you intended. Did you mean to use a sigmoid instead?\n",
            "  warnings.warn(\n"
          ]
        },
        {
          "name": "stdout",
          "output_type": "stream",
          "text": [
            "\u001b[1m3/3\u001b[0m \u001b[32m━━━━━━━━━━━━━━━━━━━━\u001b[0m\u001b[37m\u001b[0m \u001b[1m2s\u001b[0m 401ms/step\n",
            "NN Predictions: [[0.96151578 0.64650631 0.71569204 0.40903622 0.47562954 0.00455321\n",
            "  0.5078178  0.75491863 0.8351118  0.5185169  0.95932353 0.08266664\n",
            "  0.35578328 0.49829069 0.53974801 0.03866784 0.19692208 0.79926586\n",
            "  0.44867313 0.8311215  0.94628614 0.07056131 0.57570815 0.99724066\n",
            "  0.53960246 0.56451815 0.90448731 0.95442474 0.00911694 0.93284315\n",
            "  0.99139714 0.18493241 0.04637329 0.29735151 0.02347391 0.03893143\n",
            "  0.30061507 0.81904525 0.14174818 0.58375514 0.7159946  0.09571219\n",
            "  0.31527737 0.90786123 0.4108339  0.06090396 0.10032266 0.21746656\n",
            "  0.94692725 0.66895825 0.08499878 0.17694116 0.29967341 0.6208998\n",
            "  0.12793258 0.08035327 0.87668657 0.98491919 0.26189554 0.79462814\n",
            "  0.26593107 0.89764237 0.8854441  0.29582345 0.79346508 0.71239328\n",
            "  0.49781412 0.21773155 0.76781297 0.27659154 0.60878438 0.00939444\n",
            "  0.76883543 0.24270704 0.82438982 0.78516811 0.7273559  0.1456452\n",
            "  0.66596645 0.25847089 0.01999487 0.23250824 0.90581864 0.94288146\n",
            "  0.88536364 0.07653705 0.1103368  0.59779012 0.16016583 0.922243  ]]\n",
            "RF Predictions: [0.88 0.69 0.55 0.12 0.55 0.16 0.39 0.97 0.1  0.72 0.93 0.06 0.65 0.42\n",
            " 0.56 0.08 0.48 0.57 0.4  0.9  0.22 0.05 0.89 0.89 0.16 0.45 0.96 0.9\n",
            " 0.05 0.9  0.86 0.41 0.06 0.48 0.47 0.38 0.4  0.93 0.9  0.44 0.89 0.07\n",
            " 0.76 0.98 0.56 0.26 0.03 0.24 0.94 0.08 0.31 0.71 0.1  0.75 0.35 0.05\n",
            " 0.86 0.74 0.02 0.84 0.1  0.65 0.76 0.59 0.53 0.97 0.09 0.03 0.37 0.39\n",
            " 0.78 0.04 0.96 0.96 0.61 0.93 0.84 0.56 0.89 0.08 0.23 0.49 0.91 0.08\n",
            " 0.86 0.16 0.88 0.26 0.57 0.92]\n",
            "\n",
            "Ensemble Model Evaluation:\n",
            "Classification Report:\n",
            "               precision    recall  f1-score   support\n",
            "\n",
            "           0       0.73      0.76      0.74        42\n",
            "           1       0.78      0.75      0.77        48\n",
            "\n",
            "    accuracy                           0.76        90\n",
            "   macro avg       0.75      0.76      0.76        90\n",
            "weighted avg       0.76      0.76      0.76        90\n",
            "\n",
            "Confusion Matrix:\n",
            " [[32 10]\n",
            " [12 36]]\n",
            "Sensitivity: 0.75\n",
            "Specificity: 0.76\n",
            "Precision: 0.78\n",
            "F1 Score: 0.77\n"
          ]
        },
        {
          "data": {
            "image/png": "[encoded data removed]",
            "text/plain": [
              "<Figure size 600x600 with 2 Axes>"
            ]
          },
          "metadata": {},
          "output_type": "display_data"
        },
        {
          "data": {
            "image/png": "[encoded data removed]",
            "text/plain": [
              "<Figure size 800x600 with 1 Axes>"
            ]
          },
          "metadata": {},
          "output_type": "display_data"
        },
        {
          "name": "stdout",
          "output_type": "stream",
          "text": [
            "[1 1 1 0 0 0 1 1 1 1 1 0 0 0 1 0 0 1 0 1 1 0 1 1 1 1 1 1 0 1 1 0 0 0 0 0 0\n",
            " 1 0 1 1 0 0 1 0 0 0 0 1 1 0 0 0 1 0 0 1 1 0 1 0 1 1 0 1 1 0 0 1 0 1 0 1 0\n",
            " 1 1 1 0 1 0 0 0 1 1 1 0 0 1 0 1]\n"
          ]
        }
      ],
      "source": [
        "pipeline.evaluate(pipeline.model_list, pipeline.rf_model, label_encoder, X_test, y_test)"
      ]
    },
    {
      "cell_type": "markdown",
      "metadata": {
        "id": "fSrJCR_cekPO"
      },
      "source": [
        "# 7 Conclusions\n",
        "\n",
        "Your conclusions, suggestions for improvements, etc should go here."
      ]
    },
    {
      "cell_type": "markdown",
      "metadata": {},
      "source": [
        "# 8 References\n",
        "\n",
        "Acknowledge others here (books, papers, repositories, libraries, tools) "
      ]
    }
  ],
  "metadata": {
    "colab": {
      "provenance": []
    },
    "kernelspec": {
      "display_name": "Truora",
      "language": "python",
      "name": "python3"
    },
    "language_info": {
      "codemirror_mode": {
        "name": "ipython",
        "version": 3
      },
      "file_extension": ".py",
      "mimetype": "text/x-python",
      "name": "python",
      "nbconvert_exporter": "python",
      "pygments_lexer": "ipython3",
      "version": "3.10.16"
    }
  },
  "nbformat": 4,
  "nbformat_minor": 4
}
