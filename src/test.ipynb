{
 "cells": [
  {
   "cell_type": "code",
   "execution_count": 1,
   "metadata": {},
   "outputs": [
    {
     "name": "stdout",
     "output_type": "stream",
     "text": [
      "Using device: cuda\n"
     ]
    }
   ],
   "source": [
    "import os\n",
    "os.environ[\"KERAS_BACKEND\"] = \"torch\"\n",
    "\n",
    "import torch\n",
    "import pandas as pd\n",
    "import librosa\n",
    "import numpy as np\n",
    "from sklearn.model_selection import train_test_split\n",
    "from sklearn.ensemble import RandomForestClassifier\n",
    "from sklearn.metrics import accuracy_score\n",
    "from sklearn.preprocessing import LabelEncoder\n",
    "from keras import models, layers, callbacks\n",
    "from keras.utils import plot_model\n",
    "\n",
    "device = torch.device(\"cuda\" if torch.cuda.is_available() else \"cpu\")\n",
    "print(f\"Using device: {device}\")"
   ]
  },
  {
   "cell_type": "code",
   "execution_count": 2,
   "metadata": {},
   "outputs": [],
   "source": [
    "CONFIG = {\n",
    "  \"dataset_path\": \"../datasets/\",\n",
    "  \"story_path\": \"../datasets/CBU0521DD_stories/\",\n",
    "  \"label_path\": \"../datasets/CBU0521DD_stories_attributes.csv\",\n",
    "  \"model_path\": \"../models/\",\n",
    "}"
   ]
  },
  {
   "cell_type": "code",
   "execution_count": 3,
   "metadata": {},
   "outputs": [
    {
     "data": {
      "text/html": [
       "<div>\n",
       "<style scoped>\n",
       "    .dataframe tbody tr th:only-of-type {\n",
       "        vertical-align: middle;\n",
       "    }\n",
       "\n",
       "    .dataframe tbody tr th {\n",
       "        vertical-align: top;\n",
       "    }\n",
       "\n",
       "    .dataframe thead th {\n",
       "        text-align: right;\n",
       "    }\n",
       "</style>\n",
       "<table border=\"1\" class=\"dataframe\">\n",
       "  <thead>\n",
       "    <tr style=\"text-align: right;\">\n",
       "      <th></th>\n",
       "      <th>filename</th>\n",
       "      <th>Language</th>\n",
       "      <th>Story_type</th>\n",
       "    </tr>\n",
       "  </thead>\n",
       "  <tbody>\n",
       "    <tr>\n",
       "      <th>0</th>\n",
       "      <td>00001.wav</td>\n",
       "      <td>Chinese</td>\n",
       "      <td>True Story</td>\n",
       "    </tr>\n",
       "    <tr>\n",
       "      <th>1</th>\n",
       "      <td>00002.wav</td>\n",
       "      <td>Chinese</td>\n",
       "      <td>True Story</td>\n",
       "    </tr>\n",
       "    <tr>\n",
       "      <th>2</th>\n",
       "      <td>00003.wav</td>\n",
       "      <td>Chinese</td>\n",
       "      <td>True Story</td>\n",
       "    </tr>\n",
       "    <tr>\n",
       "      <th>3</th>\n",
       "      <td>00004.wav</td>\n",
       "      <td>Chinese</td>\n",
       "      <td>True Story</td>\n",
       "    </tr>\n",
       "    <tr>\n",
       "      <th>4</th>\n",
       "      <td>00005.wav</td>\n",
       "      <td>Chinese</td>\n",
       "      <td>True Story</td>\n",
       "    </tr>\n",
       "  </tbody>\n",
       "</table>\n",
       "</div>"
      ],
      "text/plain": [
       "    filename Language  Story_type\n",
       "0  00001.wav  Chinese  True Story\n",
       "1  00002.wav  Chinese  True Story\n",
       "2  00003.wav  Chinese  True Story\n",
       "3  00004.wav  Chinese  True Story\n",
       "4  00005.wav  Chinese  True Story"
      ]
     },
     "execution_count": 3,
     "metadata": {},
     "output_type": "execute_result"
    }
   ],
   "source": [
    "labels_df = pd.read_csv(CONFIG[\"label_path\"])\n",
    "labels_df.head()"
   ]
  },
  {
   "cell_type": "code",
   "execution_count": 4,
   "metadata": {},
   "outputs": [],
   "source": [
    "def extract_features(file_path, sr=16000, n_mels=128, duration=240):\n",
    "    # 加载音频\n",
    "    audio, sr = librosa.load(file_path, sr=sr)\n",
    "    \n",
    "    # 提取梅尔谱图和对数变换\n",
    "    mel_spectrogram = librosa.feature.melspectrogram(y=audio, sr=sr, n_mels=n_mels)\n",
    "    log_mel_spectrogram = librosa.power_to_db(mel_spectrogram)\n",
    "    \n",
    "    # 提取MFCC\n",
    "    mfcc = librosa.feature.mfcc(y=audio, sr=sr, n_mfcc=20)\n",
    "    \n",
    "    # 提取Chroma特征\n",
    "    chroma = librosa.feature.chroma_stft(y=audio, sr=sr)\n",
    "    \n",
    "    # 提取时域特征\n",
    "    zero_crossing_rate = librosa.feature.zero_crossing_rate(y=audio)\n",
    "    short_term_energy = np.sum(audio ** 2) / len(audio)\n",
    "    duration_feature = len(audio) / sr  # 音频的时长\n",
    "    \n",
    "    # 提取频域特征\n",
    "    spectral_centroid = librosa.feature.spectral_centroid(y=audio, sr=sr)\n",
    "    spectral_rolloff = librosa.feature.spectral_rolloff(y=audio, sr=sr, roll_percent=0.85)\n",
    "    spectral_flux = librosa.onset.onset_strength(y=audio, sr=sr)\n",
    "    \n",
    "    # 拼接所有特征\n",
    "    features = np.vstack([\n",
    "        log_mel_spectrogram, mfcc, chroma, zero_crossing_rate,\n",
    "        spectral_centroid, spectral_rolloff, spectral_flux\n",
    "    ])\n",
    "    \n",
    "    # 填充或裁剪到统一大小\n",
    "    target_length = int(sr * duration / 512)  # 计算目标时间步数\n",
    "    if features.shape[1] < target_length:\n",
    "        padding = np.zeros((features.shape[0], target_length - features.shape[1]))\n",
    "        features = np.concatenate([features, padding], axis=1)\n",
    "    else:\n",
    "        features = features[:, :target_length]\n",
    "    \n",
    "    # 添加时域特征，并进行广播匹配时间步数\n",
    "    additional_features = np.array([short_term_energy, duration_feature])\n",
    "    additional_features = np.repeat(additional_features[:, np.newaxis], features.shape[1], axis=1)  # 广播\n",
    "    \n",
    "    # 拼接时域特征和其他特征\n",
    "    features = np.concatenate([features, additional_features], axis=0)\n",
    "\n",
    "    return features"
   ]
  },
  {
   "cell_type": "code",
   "execution_count": 5,
   "metadata": {},
   "outputs": [],
   "source": [
    "# 提取所有音频文件的特征和标签\n",
    "def load_data(dataset_path, labels_df):\n",
    "    features = []\n",
    "    labels = []\n",
    "    \n",
    "    for idx, row in labels_df.iterrows():\n",
    "        filename = row['filename']\n",
    "        file_path = os.path.join(dataset_path, filename)\n",
    "        \n",
    "        # 提取音频特征\n",
    "        audio_features = extract_features(file_path)\n",
    "        \n",
    "        # 获取标签：故事的真实性 (\"True Story\" / \"False Story\")\n",
    "        story_type = row['Story_type']\n",
    "        \n",
    "        # 将特征和标签添加到列表中\n",
    "        features.append(audio_features)\n",
    "        labels.append(story_type)\n",
    "    \n",
    "    return np.array(features), np.array(labels)\n",
    "\n",
    "# 加载数据\n",
    "features, labels = load_data(CONFIG['story_path'], labels_df)"
   ]
  },
  {
   "cell_type": "code",
   "execution_count": 6,
   "metadata": {},
   "outputs": [
    {
     "name": "stdout",
     "output_type": "stream",
     "text": [
      "Encoded labels: [1 1 1 1 1 1 1 1 0 0 0 0 0 0 0 0 1 1 1 1 1 1 1 1 1 0 0 0 0 0 0 0 0 0 1 0 1\n",
      " 0 1 0 1 0 1 0 1 0 1 0 1 0 1 0 1 0 1 0 1 0 1 0 1 0 1 0 1 0 1 0 0 0 1 0 1 1\n",
      " 0 0 1 1 1 0 1 1 1 0 0 0 1 0 1 0 1 0 0 0 1 1 0 1 0 1]\n"
     ]
    }
   ],
   "source": [
    "# 使用LabelEncoder将文本标签转化为数值标签\n",
    "label_encoder = LabelEncoder()\n",
    "labels_encoded = label_encoder.fit_transform(labels)\n",
    "\n",
    "# 查看编码后的标签\n",
    "print(\"Encoded labels:\", labels_encoded)"
   ]
  },
  {
   "cell_type": "code",
   "execution_count": 7,
   "metadata": {},
   "outputs": [
    {
     "name": "stdout",
     "output_type": "stream",
     "text": [
      "Training set size: 80, Test set size: 20\n"
     ]
    }
   ],
   "source": [
    "# 划分训练集和测试集\n",
    "X_train, X_test, y_train, y_test = train_test_split(features, labels_encoded, test_size=0.2, random_state=42)\n",
    "\n",
    "print(f\"Training set size: {X_train.shape[0]}, Test set size: {X_test.shape[0]}\")\n",
    "\n",
    "# 适应神经网络输入格式\n",
    "X_train = X_train[..., np.newaxis]  # 添加一个维度（1通道）\n",
    "X_test = X_test[..., np.newaxis]"
   ]
  },
  {
   "cell_type": "code",
   "execution_count": 8,
   "metadata": {},
   "outputs": [
    {
     "data": {
      "text/plain": [
       "(80, 166, 7500, 1)"
      ]
     },
     "execution_count": 8,
     "metadata": {},
     "output_type": "execute_result"
    }
   ],
   "source": [
    "X_train.shape"
   ]
  },
  {
   "cell_type": "code",
   "execution_count": 9,
   "metadata": {},
   "outputs": [],
   "source": [
    "def build_cnn_lstm_model(input_shape):\n",
    "    model = models.Sequential()\n",
    "\n",
    "    # 输入层\n",
    "    model.add(layers.Input(shape=input_shape))\n",
    "    \n",
    "    # 卷积层部分\n",
    "    model.add(layers.Conv2D(32, (3, 3), activation='relu', padding='same'))\n",
    "    model.add(layers.BatchNormalization())\n",
    "    model.add(layers.MaxPooling2D((2, 2)))\n",
    "    model.add(layers.Dropout(0.2))\n",
    "\n",
    "    model.add(layers.Conv2D(64, (3, 3), activation='relu', padding='same'))\n",
    "    model.add(layers.BatchNormalization())\n",
    "    model.add(layers.MaxPooling2D((2, 2)))\n",
    "    model.add(layers.Dropout(0.3))\n",
    "\n",
    "    model.add(layers.Conv2D(128, (3, 3), activation='relu', padding='same'))\n",
    "    model.add(layers.BatchNormalization())\n",
    "    model.add(layers.MaxPooling2D((2, 2)))\n",
    "    model.add(layers.Dropout(0.4))\n",
    "\n",
    "    # Flatten 卷积输出\n",
    "    model.add(layers.Flatten())\n",
    "\n",
    "    # 调整形状为 LSTM 的输入格式\n",
    "    model.add(layers.Reshape((-1, 128)))\n",
    "\n",
    "    # LSTM 层部分\n",
    "    model.add(layers.Bidirectional(layers.LSTM(128, return_sequences=True)))\n",
    "    model.add(layers.Bidirectional(layers.LSTM(64)))\n",
    "\n",
    "    # 全连接层部分\n",
    "    model.add(layers.Dense(64, activation='relu'))\n",
    "    model.add(layers.BatchNormalization())\n",
    "    model.add(layers.Dropout(0.5))\n",
    "    model.add(layers.Dense(1, activation='sigmoid'))\n",
    "\n",
    "    # 编译模型\n",
    "    model.compile(\n",
    "        optimizer='adam',\n",
    "        loss='binary_crossentropy',\n",
    "        metrics=['accuracy']\n",
    "    )\n",
    "\n",
    "    return model"
   ]
  },
  {
   "cell_type": "code",
   "execution_count": 10,
   "metadata": {},
   "outputs": [],
   "source": [
    "def show_history(history):\n",
    "    import matplotlib.pyplot as plt\n",
    "\n",
    "    plt.figure(figsize=(12, 4))\n",
    "\n",
    "    plt.subplot(1, 2, 1)\n",
    "    plt.plot(history.history['accuracy'], label='Training Accuracy')\n",
    "    plt.plot(history.history['val_accuracy'], label='Validation Accuracy')\n",
    "    plt.xlabel('Epoch')\n",
    "    plt.ylabel('Accuracy')\n",
    "    plt.legend()\n",
    "\n",
    "    plt.subplot(1, 2, 2)\n",
    "    plt.plot(history.history['loss'], label='Training Loss')\n",
    "    plt.plot(history.history['val_loss'], label='Validation Loss')\n",
    "    plt.xlabel('Epoch')\n",
    "    plt.ylabel('Loss')\n",
    "    plt.legend()\n",
    "\n",
    "    plt.tight_layout()\n",
    "    plt.show()"
   ]
  },
  {
   "cell_type": "code",
   "execution_count": 13,
   "metadata": {},
   "outputs": [],
   "source": [
    "def train_multiple_cnn_lstm_models(X_train, y_train, X_test, y_test, n_models=3):\n",
    "    models_list = []\n",
    "    for i in range(n_models):\n",
    "        print(f\"Training Model {i + 1}\")\n",
    "\n",
    "        # 构建模型\n",
    "        model = build_cnn_lstm_model((X_train.shape[1], X_train.shape[2], X_train.shape[3]))\n",
    "\n",
    "        # # 设置回调函数\n",
    "        # early_stopping = callbacks.EarlyStopping(\n",
    "        #     monitor='val_loss', patience=10, restore_best_weights=True\n",
    "        # )\n",
    "        # reduce_lr = callbacks.ReduceLROnPlateau(\n",
    "        #     monitor='val_loss', factor=0.5, patience=5, min_lr=1e-6, verbose=1\n",
    "        # )\n",
    "        model_checkpoint = callbacks.ModelCheckpoint(\n",
    "            filepath=os.path.join(CONFIG['model_path'], f'best_model_{i + 1}.keras'),\n",
    "            monitor='val_accuracy', save_best_only=True, verbose=1\n",
    "        )\n",
    "        callbacks_list = [model_checkpoint]\n",
    "\n",
    "        # 训练模型\n",
    "        history = model.fit(\n",
    "            X_train, y_train,\n",
    "            validation_data=(X_test, y_test),\n",
    "            epochs=10,\n",
    "            batch_size=1,\n",
    "            callbacks=callbacks_list,\n",
    "            verbose=1\n",
    "        )\n",
    "\n",
    "        # 可视化训练过程\n",
    "        show_history(history)\n",
    "\n",
    "        # 添加模型到列表\n",
    "        models_list.append(model)\n",
    "\n",
    "    return models_list"
   ]
  },
  {
   "cell_type": "code",
   "execution_count": 14,
   "metadata": {},
   "outputs": [
    {
     "name": "stdout",
     "output_type": "stream",
     "text": [
      "Training Model 1\n"
     ]
    }
   ],
   "source": [
    "# 训练多个CNN-LSTM模型\n",
    "models_list = train_multiple_cnn_lstm_models(X_train, y_train, X_test, y_test, n_models=1)\n",
    "\n",
    "# 输出：显示每个模型的训练过程\n",
    "for i, model in enumerate(models_list):\n",
    "    print(f\"Model {i + 1} training complete.\")"
   ]
  },
  {
   "cell_type": "code",
   "execution_count": null,
   "metadata": {},
   "outputs": [],
   "source": [
    "# 训练一个随机森林模型\n",
    "rf_model = RandomForestClassifier(n_estimators=100, random_state=42)\n",
    "rf_model.fit(X_train.reshape(X_train.shape[0], -1), y_train)"
   ]
  },
  {
   "cell_type": "code",
   "execution_count": 15,
   "metadata": {},
   "outputs": [],
   "source": [
    "def ensemble_predict(models_list, rf_model, X_test, weights=None):\n",
    "    # CNN-LSTM 模型预测\n",
    "    nn_preds = np.zeros((len(models_list), X_test.shape[0]))\n",
    "    for i, model in enumerate(models_list):\n",
    "        nn_preds[i] = model.predict(X_test).flatten()\n",
    "\n",
    "    # 随机森林模型预测\n",
    "    rf_preds = rf_model.predict_proba(X_test.reshape(X_test.shape[0], -1))[:, 1]\n",
    "\n",
    "    # 加权投票\n",
    "    if weights is None:\n",
    "        weights = [1 / len(models_list)] * len(models_list)  # 默认等权重\n",
    "    nn_pred_avg = np.average(nn_preds, axis=0, weights=weights)\n",
    "    \n",
    "    # 最终预测\n",
    "    final_pred_prob = (nn_pred_avg + rf_preds) / 2\n",
    "    final_pred = (final_pred_prob > 0.5).astype(int)\n",
    "    \n",
    "    return final_pred"
   ]
  },
  {
   "cell_type": "code",
   "execution_count": null,
   "metadata": {},
   "outputs": [],
   "source": [
    "# 预测并评估集成模型的效果\n",
    "final_pred = ensemble_predict(models_list, rf_model, X_test)\n",
    "ensemble_accuracy = accuracy_score(y_test, final_pred)\n",
    "print(f\"Ensemble Model Test Accuracy: {ensemble_accuracy}\")\n",
    "\n",
    "# 输出预测结果与真实标签\n",
    "predicted_labels = label_encoder.inverse_transform(final_pred)\n",
    "true_labels = label_encoder.inverse_transform(y_test)\n",
    "for true, pred in zip(true_labels, predicted_labels):\n",
    "    print(f\"Actual: {true}, Predicted: {pred}\")"
   ]
  },
  {
   "cell_type": "code",
   "execution_count": 17,
   "metadata": {},
   "outputs": [],
   "source": [
    "def load_models(models_path, n_models):\n",
    "    models_list = []\n",
    "    for i in range(n_models):\n",
    "        model = models.load_model(os.path.join(models_path, f'best_model_{i + 1}.keras'))\n",
    "        models_list.append(model)\n",
    "    return models_list"
   ]
  },
  {
   "cell_type": "code",
   "execution_count": 19,
   "metadata": {},
   "outputs": [],
   "source": [
    "models_list = load_models(CONFIG['model_path'], 1)"
   ]
  },
  {
   "cell_type": "code",
   "execution_count": 23,
   "metadata": {},
   "outputs": [],
   "source": [
    "from sklearn.metrics import confusion_matrix, classification_report, auc\n",
    "from scipy.interpolate import interp1d\n",
    "import matplotlib.pyplot as plt\n",
    "import seaborn as sns"
   ]
  },
  {
   "cell_type": "code",
   "execution_count": 27,
   "metadata": {},
   "outputs": [],
   "source": [
    "# 计算并绘制混淆矩阵\n",
    "def plot_confusion_matrix(y_true, y_pred, labels):\n",
    "    cm = confusion_matrix(y_true, y_pred)\n",
    "    plt.figure(figsize=(6, 6))\n",
    "    sns.heatmap(cm, annot=True, fmt=\"d\", cmap=\"Blues\", xticklabels=labels, yticklabels=labels)\n",
    "    plt.ylabel('Actual')\n",
    "    plt.xlabel('Predicted')\n",
    "    plt.title('Confusion Matrix')\n",
    "    plt.show()\n",
    "\n",
    "# 计算其他评估指标\n",
    "def evaluate_model(y_true, y_pred):\n",
    "    report = classification_report(y_true, y_pred)\n",
    "    print(\"Classification Report:\\n\", report)\n",
    "\n",
    "    # 计算 Sensitivity, Specificity, Precision, F1 Score 等指标\n",
    "    cm = confusion_matrix(y_true, y_pred)\n",
    "    TP = cm[1, 1]  # True Positive\n",
    "    TN = cm[0, 0]  # True Negative\n",
    "    FP = cm[0, 1]  # False Positive\n",
    "    FN = cm[1, 0]  # False Negative\n",
    "\n",
    "    sensitivity = TP / (TP + FN)  # True Positive Rate\n",
    "    specificity = TN / (TN + FP)  # True Negative Rate\n",
    "    precision = TP / (TP + FP)  # Precision\n",
    "    f1_score = 2 * (precision * sensitivity) / (precision + sensitivity)  # F1 Score\n",
    "\n",
    "    print(f\"Sensitivity: {sensitivity:.2f}\")\n",
    "    print(f\"Specificity: {specificity:.2f}\")\n",
    "    print(f\"Precision: {precision:.2f}\")\n",
    "    print(f\"F1 Score: {f1_score:.2f}\")\n",
    "\n",
    "# 绘制ROC曲线（通过不同阈值生成混淆矩阵）\n",
    "def plot_roc_curve(y_true, y_pred_prob):\n",
    "    # 定义所有可能的阈值\n",
    "    thresholds = np.linspace(0, 1, 1000)  # 在 [0, 1] 之间生成 100 个均匀分布的阈值\n",
    "\n",
    "    # 初始化 TPR（Sensitivity）和 FPR（1-Specificity）的列表\n",
    "    tpr_list = []\n",
    "    fpr_list = []\n",
    "\n",
    "    # 遍历每个阈值\n",
    "    for threshold in thresholds:\n",
    "        # 根据阈值生成预测标签\n",
    "        y_pred = (y_pred_prob >= threshold).astype(int)\n",
    "\n",
    "        # 计算混淆矩阵\n",
    "        tn, fp, fn, tp = confusion_matrix(y_true, y_pred).ravel()\n",
    "\n",
    "        # 计算 TPR 和 FPR\n",
    "        tpr = tp / (tp + fn) if (tp + fn) > 0 else 0\n",
    "        fpr = fp / (fp + tn) if (fp + tn) > 0 else 0\n",
    "\n",
    "        tpr_list.append(tpr)\n",
    "        fpr_list.append(fpr)\n",
    "\n",
    "    # 计算 AUC\n",
    "    roc_auc = auc(fpr_list, tpr_list)\n",
    "\n",
    "    # 绘制 ROC 曲线\n",
    "    plt.figure(figsize=(8, 6))\n",
    "    plt.plot(fpr_list, tpr_list, label=f'ROC curve (AUC = {roc_auc:.2f})', color='blue')\n",
    "\n",
    "    # 绘制随机分类器的基线\n",
    "    plt.plot([0, 1], [0, 1], linestyle='--', color='gray', label='Random Guess')\n",
    "\n",
    "    # 设置图形标题和标签\n",
    "    plt.xlabel('1 - Specificity (False Positive Rate)')\n",
    "    plt.ylabel('Sensitivity (True Positive Rate)')\n",
    "    plt.title('Receiver Operating Characteristic (ROC) Curve with Cost Ratio')\n",
    "    plt.legend(loc='lower right')\n",
    "    plt.show()\n",
    "\n",
    "# 对于集成模型进行评估\n",
    "def evaluate_ensemble_model(y_true, models_list, rf_model, X_test):\n",
    "    # 获取CNN-LSTM模型的预测概率\n",
    "    nn_preds_prob = np.zeros((len(models_list), X_test.shape[0]))\n",
    "    for i, model in enumerate(models_list):\n",
    "        nn_preds_prob[i] = model.predict(X_test).flatten()\n",
    "\n",
    "    # 获取随机森林模型的预测概率\n",
    "    rf_preds_prob = rf_model.predict_proba(X_test.reshape(X_test.shape[0], -1))[:, 1]\n",
    "\n",
    "    # 计算加权平均的预测概率\n",
    "    nn_pred_avg = np.mean(nn_preds_prob, axis=0)\n",
    "    final_pred_prob = (nn_pred_avg + rf_preds_prob) / 2\n",
    "\n",
    "    # 生成最终的预测标签\n",
    "    final_pred = (final_pred_prob > 0.5).astype(int)\n",
    "\n",
    "    # 评估结果\n",
    "    print(\"\\nEnsemble Model Evaluation:\")\n",
    "    evaluate_model(y_true, final_pred)\n",
    "    plot_confusion_matrix(y_true, final_pred, labels=['False Story', 'True Story'])\n",
    "    plot_roc_curve(y_true, final_pred_prob)\n",
    "    \n",
    "    return final_pred, final_pred_prob"
   ]
  },
  {
   "cell_type": "code",
   "execution_count": null,
   "metadata": {},
   "outputs": [],
   "source": [
    "# 评估集成模型\n",
    "final_pred, final_pred_prob = evaluate_ensemble_model(y_test, models_list, rf_model, X_test)\n",
    "\n",
    "# 输出预测结果与真实标签\n",
    "predicted_labels = label_encoder.inverse_transform(final_pred)\n",
    "true_labels = label_encoder.inverse_transform(y_test)\n",
    "for true, pred in zip(true_labels, predicted_labels):\n",
    "    print(f\"Actual: {true}, Predicted: {pred}\")"
   ]
  },
  {
   "cell_type": "code",
   "execution_count": null,
   "metadata": {},
   "outputs": [],
   "source": [
    "plot_model(models_list[0], show_shapes=True)"
   ]
  },
  {
   "cell_type": "code",
   "execution_count": null,
   "metadata": {},
   "outputs": [],
   "source": []
  }
 ],
 "metadata": {
  "kernelspec": {
   "display_name": "Truora",
   "language": "python",
   "name": "python3"
  },
  "language_info": {
   "codemirror_mode": {
    "name": "ipython",
    "version": 3
   },
   "file_extension": ".py",
   "mimetype": "text/x-python",
   "name": "python",
   "nbconvert_exporter": "python",
   "pygments_lexer": "ipython3",
   "version": "3.10.16"
  }
 },
 "nbformat": 4,
 "nbformat_minor": 2
}
